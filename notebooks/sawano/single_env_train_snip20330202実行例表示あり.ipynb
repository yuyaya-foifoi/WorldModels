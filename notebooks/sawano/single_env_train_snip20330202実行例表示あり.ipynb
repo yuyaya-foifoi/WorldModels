{
  "cells": [
    {
      "cell_type": "markdown",
      "source": [
        "**Read Me**\n",
        "*   パスは自分の環境に合わせて下さい。\n",
        "*   強化学習にプルーニングを挿入している以下のコードを見つけたので、そのコードの挿入をしています。\n",
        "*   不明点がありましたら以下も併せて参照ください（私も完全に理解できていません）\n",
        "https://github.com/kangxiatao/RLPanning/blob/main/main.py\n",
        "*   こちらのコードの挿入も試しましたが、不明なエラーが出て断念しました。\n",
        "https://github.com/JingtongSu/sanity-checking-pruning"
      ],
      "metadata": {
        "id": "IS6yyv2qAIxn"
      }
    },
    {
      "cell_type": "markdown",
      "source": [],
      "metadata": {
        "id": "lbz_VehYAHfw"
      }
    },
    {
      "cell_type": "code",
      "source": [
        "from google.colab import drive\n",
        "drive.mount(\"/content/drive\", force_remount=True)"
      ],
      "metadata": {
        "colab": {
          "base_uri": "https://localhost:8080/"
        },
        "id": "l-qfMap2PjwG",
        "outputId": "5d70d141-9674-45ae-e9c2-2f52bc44a860"
      },
      "execution_count": null,
      "outputs": [
        {
          "output_type": "stream",
          "name": "stdout",
          "text": [
            "Mounted at /content/drive\n"
          ]
        }
      ]
    },
    {
      "cell_type": "code",
      "source": [
        "cd drive/MyDrive/世界モデル2022/WorldModel/WorldModels #自分の環境に合わせて下さい"
      ],
      "metadata": {
        "id": "4pGDHD2cRs3D"
      },
      "execution_count": null,
      "outputs": []
    },
    {
      "cell_type": "code",
      "source": [
        "pwd"
      ],
      "metadata": {
        "colab": {
          "base_uri": "https://localhost:8080/",
          "height": 36
        },
        "id": "TKJ8JCQOPqud",
        "outputId": "a1d69426-98c2-4a9b-f4d6-23a0e30a38ad"
      },
      "execution_count": null,
      "outputs": [
        {
          "output_type": "execute_result",
          "data": {
            "text/plain": [
              "'/content/drive/MyDrive/世界モデル2022/WorldModel/WorldModels'"
            ],
            "application/vnd.google.colaboratory.intrinsic+json": {
              "type": "string"
            }
          },
          "metadata": {},
          "execution_count": 14
        }
      ]
    },
    {
      "cell_type": "code",
      "execution_count": null,
      "metadata": {
        "colab": {
          "base_uri": "https://localhost:8080/"
        },
        "id": "bYiVcknZX_AB",
        "outputId": "f41f8f28-f336-4e18-ae7b-94f5b2e5c0b1"
      },
      "outputs": [
        {
          "output_type": "stream",
          "name": "stdout",
          "text": [
            "Looking in indexes: https://pypi.org/simple, https://us-python.pkg.dev/colab-wheels/public/simple/\n",
            "Collecting pybullet==3.2.5\n",
            "  Downloading pybullet-3.2.5-cp38-cp38-manylinux_2_5_x86_64.manylinux1_x86_64.whl (91.7 MB)\n",
            "\u001b[2K     \u001b[90m━━━━━━━━━━━━━━━━━━━━━━━━━━━━━━━━━━━━━━━━\u001b[0m \u001b[32m91.7/91.7 MB\u001b[0m \u001b[31m11.3 MB/s\u001b[0m eta \u001b[36m0:00:00\u001b[0m\n",
            "\u001b[?25hCollecting gym==0.21.0\n",
            "  Downloading gym-0.21.0.tar.gz (1.5 MB)\n",
            "\u001b[2K     \u001b[90m━━━━━━━━━━━━━━━━━━━━━━━━━━━━━━━━━━━━━━━━\u001b[0m \u001b[32m1.5/1.5 MB\u001b[0m \u001b[31m90.1 MB/s\u001b[0m eta \u001b[36m0:00:00\u001b[0m\n",
            "\u001b[?25h  Preparing metadata (setup.py) ... \u001b[?25l\u001b[?25hdone\n",
            "Requirement already satisfied: numpy>=1.18.0 in /usr/local/lib/python3.8/dist-packages (from gym==0.21.0->-r ./requirements/gym.txt (line 2)) (1.21.6)\n",
            "Requirement already satisfied: cloudpickle>=1.2.0 in /usr/local/lib/python3.8/dist-packages (from gym==0.21.0->-r ./requirements/gym.txt (line 2)) (2.2.0)\n",
            "Building wheels for collected packages: gym\n",
            "  Building wheel for gym (setup.py) ... \u001b[?25l\u001b[?25hdone\n",
            "  Created wheel for gym: filename=gym-0.21.0-py3-none-any.whl size=1616819 sha256=00167b65bfe0c8f1083222521396a2a90299d6f7ef09cc62aed9272f436054f4\n",
            "  Stored in directory: /root/.cache/pip/wheels/27/6d/b3/a3a6e10704795c9b9000f1ab2dc480dfe7bed42f5972806e73\n",
            "Successfully built gym\n",
            "Installing collected packages: pybullet, gym\n",
            "  Attempting uninstall: gym\n",
            "    Found existing installation: gym 0.25.2\n",
            "    Uninstalling gym-0.25.2:\n",
            "      Successfully uninstalled gym-0.25.2\n",
            "Successfully installed gym-0.21.0 pybullet-3.2.5\n"
          ]
        }
      ],
      "source": [
        "!pip install -r ./requirements/gym.txt"
      ]
    },
    {
      "cell_type": "markdown",
      "source": [
        "configは以下に変更して実行した\n",
        "            #\"seed_episodes\": 10,  # 最初にランダム行動で探索するエピソード数\n",
        "            \"seed_episodes\": 1,\n",
        "            #\"all_episodes\": 50,  # 学習全体のエピソード数（300ほどで, ある程度収束します）\n",
        "            \"all_episodes\": 2,\n",
        "            #\"test_interval\": 5,  # 何エピソードごとに探索ノイズなしのテストを行うか\n",
        "            \"test_interval\": 1,\n",
        "            #\"model_save_interval\": 20,  # NNの重みを何エピソードごとに保存するか\n",
        "            \"model_save_interval\": 1,\n",
        "            #\"collect_interval\": 100,  # 何回のNNの更新ごとに経験を集めるか（＝1エピソード経験を集めるごとに何回更新するか）\n",
        "            \"collect_interval\": 2,"
      ],
      "metadata": {
        "id": "X0_BrYl_ZSGD"
      }
    },
    {
      "cell_type": "markdown",
      "source": [
        "ようやく、、最後まで実行できるようになりました。\n",
        "epcheを1とかすごく小さい値にしているので、直ぐに終わってしまって性能は不明ですが、\n",
        "プログラムは動いているように見えますが。。"
      ],
      "metadata": {
        "id": "9ggpRF8zAcGs"
      }
    },
    {
      "cell_type": "code",
      "execution_count": null,
      "metadata": {
        "colab": {
          "base_uri": "https://localhost:8080/"
        },
        "id": "WIsDm8zMYIEz",
        "outputId": "e6a34c8f-da06-499f-9b31-cfc4883e927a"
      },
      "outputs": [
        {
          "output_type": "stream",
          "name": "stdout",
          "text": [
            "pybullet build time: May 20 2022 19:44:17\n",
            "Files already downloaded and verified\n",
            "Files already downloaded and verified\n",
            "tcmalloc: large alloc 2457600000 bytes == 0x5db40000 @  0x7f0577bbd680 0x7f0577bdd2ec 0x7f057699722f 0x7f05769ef68b 0x7f05769f04f7 0x7f0576a92913 0x5c4677 0x56cc92 0x569d8a 0x5f60c3 0x59c130 0x5f666f 0x57165d 0x569d8a 0x68e267 0x67d9b1 0x67da2f 0x67dad1 0x67fbf7 0x6b8082 0x6b840d 0x7f05779bc083 0x5faa2e\n",
            "argv[0]=\n",
            "argv[0]=\n",
            "argv[0]=\n",
            "argv[0]=\n",
            "episode [   2/   2] is collected. Total reward is -1697.947161\n",
            "elasped time for interaction: 9.78s\n",
            "update_step:   1 model loss: 1001.92303, kl_loss: 3.00000, obs_loss: 991.76917, reward_loss: 7.15389, value_loss: 0.02527 action_loss: 0.19647\n",
            "update_step:   2 model loss: 986.17554, kl_loss: 3.00000, obs_loss: 975.53967, reward_loss: 7.63586, value_loss: 0.23108 action_loss: 0.61566\n",
            "elasped time for update: 2.80s\n",
            "argv[0]=\n",
            "argv[0]=\n",
            "Total test reward at episode [   2/   2] is -1342.269539\n",
            "elasped time for test: 3.35s\n"
          ]
        }
      ],
      "source": [
        "!python src/tools/train/single_env_train_snip.py"
      ]
    }
  ],
  "metadata": {
    "accelerator": "GPU",
    "colab": {
      "provenance": []
    },
    "gpuClass": "standard",
    "kernelspec": {
      "display_name": "Python 3",
      "language": "python",
      "name": "python3"
    },
    "language_info": {
      "name": "python",
      "version": "3.9.2 (v3.9.2:1a79785e3e, Feb 19 2021, 09:06:10) \n[Clang 6.0 (clang-600.0.57)]"
    },
    "vscode": {
      "interpreter": {
        "hash": "aee8b7b246df8f9039afb4144a1f6fd8d2ca17a180786b69acc140d282b71a49"
      }
    }
  },
  "nbformat": 4,
  "nbformat_minor": 0
}