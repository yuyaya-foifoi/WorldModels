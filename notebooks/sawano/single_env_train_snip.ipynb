{
  "cells": [
    {
      "cell_type": "markdown",
      "source": [
        "**Read Me**\n",
        "\n",
        "\n",
        "*   パスは自分の環境に合わせて下さい。\n",
        "*   強化学習にプルーニングを挿入している以下のコードを見つけたので、そのコードの挿入をしています。\n",
        "*   不明点がありましたら以下も併せて参照ください（私も完全に理解できていません）\n",
        "https://github.com/kangxiatao/RLPanning/blob/main/main.py\n",
        "*   こちらのコードの挿入も試しましたが、不明なエラーが出て断念しました。\n",
        "https://github.com/JingtongSu/sanity-checking-pruning"
      ],
      "metadata": {
        "id": "TqWrBXle-7L0"
      }
    },
    {
      "cell_type": "code",
      "source": [
        "from google.colab import drive\n",
        "drive.mount(\"/content/drive\", force_remount=True)"
      ],
      "metadata": {
        "id": "l-qfMap2PjwG"
      },
      "execution_count": null,
      "outputs": []
    },
    {
      "cell_type": "code",
      "source": [
        "cd drive/MyDrive/世界モデル2022/WorldModel/WorldModels #自分の環境に合わせて下さい"
      ],
      "metadata": {
        "id": "mJCsnQKVQjfs"
      },
      "execution_count": null,
      "outputs": []
    },
    {
      "cell_type": "code",
      "source": [
        "!pip install -r ./requirements/gym.txt"
      ],
      "metadata": {
        "id": "h8qtFU-cbgLe"
      },
      "execution_count": null,
      "outputs": []
    },
    {
      "cell_type": "code",
      "execution_count": null,
      "metadata": {
        "id": "WIsDm8zMYIEz"
      },
      "outputs": [],
      "source": [
        "!python src/tools/train/single_env_train_snip.py"
      ]
    }
  ],
  "metadata": {
    "accelerator": "GPU",
    "colab": {
      "provenance": []
    },
    "gpuClass": "standard",
    "kernelspec": {
      "display_name": "Python 3",
      "language": "python",
      "name": "python3"
    },
    "language_info": {
      "name": "python",
      "version": "3.9.2 (v3.9.2:1a79785e3e, Feb 19 2021, 09:06:10) \n[Clang 6.0 (clang-600.0.57)]"
    },
    "vscode": {
      "interpreter": {
        "hash": "aee8b7b246df8f9039afb4144a1f6fd8d2ca17a180786b69acc140d282b71a49"
      }
    }
  },
  "nbformat": 4,
  "nbformat_minor": 0
}